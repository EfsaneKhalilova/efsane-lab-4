{
  "metadata": {
    "language_info": {
      "codemirror_mode": {
        "name": "python",
        "version": 3
      },
      "file_extension": ".py",
      "mimetype": "text/x-python",
      "name": "python",
      "nbconvert_exporter": "python",
      "pygments_lexer": "ipython3",
      "version": "3.8"
    },
    "kernelspec": {
      "name": "python",
      "display_name": "Python (Pyodide)",
      "language": "python"
    }
  },
  "nbformat_minor": 4,
  "nbformat": 4,
  "cells": [
    {
      "cell_type": "code",
      "source": "name =\"efsane\"\nsurname =\"klalilova\"\nprint (name,surname)",
      "metadata": {
        "trusted": true
      },
      "execution_count": 3,
      "outputs": [
        {
          "name": "stdout",
          "text": "efsane klalilova\n",
          "output_type": "stream"
        }
      ]
    },
    {
      "cell_type": "code",
      "source": "age =22\nbirthday = \"06.01.2001\" \n \nprint ( age)\nprint (birthday)",
      "metadata": {
        "trusted": true
      },
      "execution_count": 4,
      "outputs": [
        {
          "name": "stdout",
          "text": "22\n06.01.2001\n",
          "output_type": "stream"
        }
      ]
    },
    {
      "cell_type": "code",
      "source": "qrup_220a2 =[ \" kenan \", \"efsane\", \" namiq \" \"vuqar\" ]\n\nprint(qrup_220a2)\n\n",
      "metadata": {
        "trusted": true
      },
      "execution_count": 13,
      "outputs": [
        {
          "name": "stdout",
          "text": "[' kenan ', 'efsane', ' namiq vuqar']\n",
          "output_type": "stream"
        }
      ]
    },
    {
      "cell_type": "code",
      "source": "qrup_num= qrup_220a2[0]\nprint(qrup_num)",
      "metadata": {
        "trusted": true
      },
      "execution_count": 15,
      "outputs": [
        {
          "name": "stdout",
          "text": " kenan \n",
          "output_type": "stream"
        }
      ]
    },
    {
      "cell_type": "code",
      "source": "a=5\nb=3,7\nif  a>b:\n    print( \"a b-den boyukdur\")\nelse:\n    print(\"a b-dan kicikdir)\n    ",
      "metadata": {
        "trusted": true
      },
      "execution_count": 18,
      "outputs": [
        {
          "ename": "<class 'SyntaxError'>",
          "evalue": "invalid syntax. Perhaps you forgot a comma? (<ipython-input-18-0c27d1c88f18>, line 4)",
          "traceback": [
            "\u001b[0;36m  Cell \u001b[0;32mIn[18], line 4\u001b[0;36m\u001b[0m\n\u001b[0;31m    print( a b-den boyukdur)\u001b[0m\n\u001b[0m           ^\u001b[0m\n\u001b[0;31mSyntaxError\u001b[0m\u001b[0;31m:\u001b[0m invalid syntax. Perhaps you forgot a comma?\n"
          ],
          "output_type": "error"
        }
      ]
    },
    {
      "cell_type": "code",
      "source": "",
      "metadata": {},
      "execution_count": null,
      "outputs": []
    }
  ]
}